{
  "nbformat": 4,
  "nbformat_minor": 0,
  "metadata": {
    "colab": {
      "provenance": [],
      "authorship_tag": "ABX9TyOjS5ykfzL6Tq3T9dvXGSuC",
      "include_colab_link": true
    },
    "kernelspec": {
      "name": "python3",
      "display_name": "Python 3"
    },
    "language_info": {
      "name": "python"
    }
  },
  "cells": [
    {
      "cell_type": "markdown",
      "metadata": {
        "id": "view-in-github",
        "colab_type": "text"
      },
      "source": [
        "<a href=\"https://colab.research.google.com/github/diegookaique/diegookaique/blob/main/Calculadora.ipynb\" target=\"_parent\"><img src=\"https://colab.research.google.com/assets/colab-badge.svg\" alt=\"Open In Colab\"/></a>"
      ]
    },
    {
      "cell_type": "code",
      "execution_count": null,
      "metadata": {
        "colab": {
          "base_uri": "https://localhost:8080/"
        },
        "id": "kg2Fj9yqSU98",
        "outputId": "90b885cf-7c2c-469f-9670-a9ce85f5f47e"
      },
      "outputs": [
        {
          "name": "stdout",
          "output_type": "stream",
          "text": [
            "Digite um numero: 2\n"
          ]
        }
      ],
      "source": [
        "while True:\n",
        "  num1 = int(input('Digite um numero: '))\n",
        "  num2 = int(input('Digite outro numero: '))\n",
        "\n",
        "  print('\\nEscolha uma opção:')\n",
        "  print('1 - somar')\n",
        "  print('2 - subtrair')\n",
        "  print('3 - multiplicar')\n",
        "  print('4 - dividir')\n",
        "  print('5 - sair')\n",
        "\n",
        "  opcao = input('\\nEscolha o número da sua opção desejada: ')\n",
        "\n",
        "  # if / elif / else\n",
        "\n",
        "  if opcao == '1':\n",
        "    print('\\nSoma: ', num1 + num2)\n",
        "  elif opcao == '2':\n",
        "    print('\\nSubtração: ', num1 - num2)\n",
        "  elif opcao == '3':\n",
        "    print('\\nMultiplicação: ', num1 * num2)\n",
        "  elif opcao == '4':\n",
        "    print('\\nDivisão: ', num1 / num2)\n",
        "  elif opcao == '5':\n",
        "    print('\\nSaindo da cálculadora...')\n",
        "  break\n",
        "else:\n",
        "    print('\\nOpção inválida! Escolha um numero de 1 a 4.')"
      ]
    }
  ]
}